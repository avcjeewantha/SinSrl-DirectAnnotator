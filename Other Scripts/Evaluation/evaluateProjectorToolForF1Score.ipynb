{
  "nbformat": 4,
  "nbformat_minor": 0,
  "metadata": {
    "colab": {
      "name": "evaluateProjectorToolForF1Score.ipynb",
      "provenance": []
    },
    "kernelspec": {
      "name": "python3",
      "display_name": "Python 3"
    }
  },
  "cells": [
    {
      "cell_type": "code",
      "metadata": {
        "id": "uEVWyeT9s_Eg"
      },
      "source": [
        "import pandas as pd\n",
        "# Import PyDrive and associated libraries.\n",
        "# This only needs to be done once per notebook.\n",
        "from pydrive.auth import GoogleAuth\n",
        "from pydrive.drive import GoogleDrive\n",
        "from google.colab import auth\n",
        "from oauth2client.client import GoogleCredentials\n",
        "import numpy as np\n",
        "\n",
        "# Authenticate and create the PyDrive client.\n",
        "# This only needs to be done once per notebook.\n",
        "auth.authenticate_user()\n",
        "gauth = GoogleAuth()\n",
        "gauth.credentials = GoogleCredentials.get_application_default()\n",
        "drive = GoogleDrive(gauth)\n",
        "\n",
        "# Download a file based on its file ID.\n",
        "#\n",
        "# A file ID looks like: laggVyWshwcyP6kEI-y_W3P8D26sz\n",
        "file_id = '1RxjFKAfwKRvJ-w4_miQKZV9COwi5RhiN'\n",
        "downloaded = drive.CreateFile({'id': file_id})\n",
        "downloaded.GetContentFile('mannualData'+'.csv')  \n",
        "mannualData = pd.read_csv('mannualData'+'.csv')"
      ],
      "execution_count": null,
      "outputs": []
    },
    {
      "cell_type": "code",
      "metadata": {
        "id": "5PCh1uT3tLkP"
      },
      "source": [
        "x = [[ \"එය ARG1\" , \"සංකීර්ණ ARG2\" , \"වන be.01\" , \"අතර O\" , \"එය O\" , \"යුක්ති O\" , \"සහගත O\" , \"නොවේ O\" , \". O\" ],[ \"එය ARG1\" , \"සංකීර්ණ complicate.01\" , \"වන O\" , \"අතර O\" , \"එය O\" , \"යුක්ති O\" , \"සහගත O\" , \"නොවේ O\" , \". O\" ],[ \"එය O\" , \"සංකීර්ණ O\" , \"වන O\" , \"අතර O\" , \"එය ARG1\" , \"යුක්ති justify.01\" , \"සහගත justify.01\" , \"නොවේ ARGM-NEG\" , \". O\" ]]\n",
        "\n",
        "def makeLists (mannualData = x):\n",
        "  noOfPredsInMannualDta = len(mannualData)\n",
        "  newMannualData = []\n",
        "  for i in range(0, noOfPredsInMannualDta):\n",
        "    mannualSeq = mannualData[i] #[ \"එය ARG1\" , \"සංකීර්ණ ARG2\" , \"වන be.01\" , \"අතර O\" , \"එය O\" , \"යුක්ති O\" , \"සහගත O\" , \"නොවේ O\" , \". O\" ]\n",
        "    newMannualSeq = [] #[ [\"එය\",\"ARG1\"] , [\"සංකීර්ණ\",\"ARG2\"] , [\"වන\",\"be.01\"] , [\"අතර\",\"O\"] , [\"එය\",\"O\"] , [\"යුක්ති\",\"O\"] , [\"සහගත\",\"O\"] , [\"නොවේ\",\"O\"] , [\".\",\"O\"] ]\n",
        "    for j in mannualSeq:\n",
        "      a = j.strip()\n",
        "      newMannualSeq.append(a.split())\n",
        "    newMannualData.append(newMannualSeq)\n",
        "  return newMannualData"
      ],
      "execution_count": null,
      "outputs": []
    },
    {
      "cell_type": "code",
      "metadata": {
        "colab": {
          "base_uri": "https://localhost:8080/"
        },
        "id": "3tuDEWG2tO-i",
        "outputId": "e3a3fde0-a58a-4b9f-9cd3-18c68b0ddb2b"
      },
      "source": [
        "a = makeLists()\n",
        "print(a)"
      ],
      "execution_count": null,
      "outputs": [
        {
          "output_type": "stream",
          "text": [
            "[[['එය', 'ARG1'], ['සංකීර්ණ', 'ARG2'], ['වන', 'be.01'], ['අතර', 'O'], ['එය', 'O'], ['යුක්ති', 'O'], ['සහගත', 'O'], ['නොවේ', 'O'], ['.', 'O']], [['එය', 'ARG1'], ['සංකීර්ණ', 'complicate.01'], ['වන', 'O'], ['අතර', 'O'], ['එය', 'O'], ['යුක්ති', 'O'], ['සහගත', 'O'], ['නොවේ', 'O'], ['.', 'O']], [['එය', 'O'], ['සංකීර්ණ', 'O'], ['වන', 'O'], ['අතර', 'O'], ['එය', 'ARG1'], ['යුක්ති', 'justify.01'], ['සහගත', 'justify.01'], ['නොවේ', 'ARGM-NEG'], ['.', 'O']]]\n"
          ],
          "name": "stdout"
        }
      ]
    },
    {
      "cell_type": "code",
      "metadata": {
        "id": "PE8OpjKMtQyh"
      },
      "source": [
        "def replaceAtsWithComma(Resultslist): #replace @@@s With Commas\n",
        "  res = []\n",
        "  for i in Resultslist:\n",
        "    if isinstance(i, list):\n",
        "      insideL = []\n",
        "      for j in i:\n",
        "        x = j.replace('@@@', ',')\n",
        "        x = x.strip()\n",
        "        insideL.append(x)\n",
        "      res.append(insideL)\n",
        "  # if len(res) == 1:  \n",
        "  #   return res[0]\n",
        "  return res"
      ],
      "execution_count": null,
      "outputs": []
    },
    {
      "cell_type": "code",
      "metadata": {
        "id": "MIV-gsFKtSQC"
      },
      "source": [
        "def stringToList(ini_list): #Convert a string to a list\n",
        "    # print(ini_list)\n",
        "    res = ini_list.replace('],[','], [').replace('] ,[','], [').replace('] , [','], [').strip()[1:-1].split(\"], [\")\n",
        "    res = [[i] for i in res]\n",
        "    # print(res)\n",
        "    newRes = []\n",
        "    for i in res:\n",
        "      res = i[0].replace(', ,', ', @@@')  #to handle exceptions when \",\" is in the sentence\n",
        "      newRes.append(res.strip('][').split(' , ')) \n",
        "    newRes = replaceAtsWithComma(newRes)\n",
        "    # print(newRes)\n",
        "    return newRes"
      ],
      "execution_count": null,
      "outputs": []
    },
    {
      "cell_type": "code",
      "metadata": {
        "id": "u5Bmnb3e_S0_"
      },
      "source": [
        "def get_chunks(seq):\n",
        "    chunks = []\n",
        "    chunk_type, chunk_start = None, None\n",
        "    for i, tok in enumerate(seq):\n",
        "        if tok[1] == 'O' and chunk_type is not None:\n",
        "            chunk = (chunk_type, chunk_start, i)\n",
        "            chunks.append(chunk)\n",
        "            chunk_type, chunk_start = None, None\n",
        "\n",
        "        elif tok[1] != 'O' :\n",
        "            tok_chunk = tok[1]\n",
        "            if chunk_type is None:\n",
        "                chunk_type, chunk_start = tok_chunk, i\n",
        "            elif tok_chunk != chunk_type:\n",
        "                chunk = (chunk_type, chunk_start, i)\n",
        "                chunks.append(chunk)\n",
        "                chunk_type, chunk_start = tok_chunk, i\n",
        "        else:\n",
        "            pass\n",
        "\n",
        "    if chunk_type is not None:\n",
        "        chunk = (chunk_type, chunk_start, len(seq))\n",
        "        chunks.append(chunk)\n",
        "\n",
        "    return chunks"
      ],
      "execution_count": null,
      "outputs": []
    },
    {
      "cell_type": "code",
      "metadata": {
        "id": "ktU4UZ9t_ToQ"
      },
      "source": [
        "def comparableSeq(sentence):\n",
        "  s = [get_chunks(seq) for seq in sentence]\n",
        "  flat_list = [item for sublist in s for item in sublist]\n",
        "  return flat_list"
      ],
      "execution_count": null,
      "outputs": []
    },
    {
      "cell_type": "code",
      "metadata": {
        "colab": {
          "base_uri": "https://localhost:8080/"
        },
        "id": "g_z1haL5tTsz",
        "outputId": "7f9c5583-eedb-47c1-ea77-1a06b9e2cb55"
      },
      "source": [
        "accs = []\n",
        "correct_preds = 0\n",
        "total_preds = 0\n",
        "total_correct = 0\n",
        "\n",
        "for index, row in mannualData.iterrows():\n",
        "# for i in range(1):\n",
        "  if row['manual annotation'] != '[ ]':\n",
        "    s1 = stringToList(row['manual annotation'])\n",
        "    for u in s1:\n",
        "      if u[-1] != '. O':\n",
        "        u.append('. O')\n",
        "  else:\n",
        "    s1 = []\n",
        "  if row['predicted annotation'] != '[ ]':\n",
        "    s2 = stringToList(row['predicted annotation'])\n",
        "    for u in s2:\n",
        "      if u[-1] != '. O':\n",
        "        u.append('. O')\n",
        "  else:\n",
        "    s2 = []\n",
        "  # s1 = [['එසේ ARGM-DIS', 'වුවද ARGM-DIS', ', O', 'තීරණය ARG1', 'දැනටමත් ARGM-TMP', 'සම්මත adopt.01', 'කර adopt.01', 'ඇත have.01', '. O']]\n",
        "  # print(s1)\n",
        "  sentence1 = makeLists(s1) #[[['එය', 'ARG0'], ['තවත්', 'ARG1'], ['බොහෝ', 'O'], ['දේ', 'O'], ['කළ', 'do.02'], ['යුතුව', 'O'], ['තිබුණි', 'O'], ['.', 'O']], [['එය', 'O'], ['තවත්', 'O'], ['බොහෝ', 'O'], ['දේ', 'O'], ['කළ', 'O'], ['යුතුව', 'O'], ['තිබුණි', 'have.01'], ['.', 'O']]]\n",
        "  # print(sentence1)\n",
        "  sentence2 = makeLists(s2)\n",
        "  # print(sentence2)\n",
        "  CSentence1 = comparableSeq(sentence1)\n",
        "  # print(CSentence1)\n",
        "  CSentence2 = comparableSeq(sentence2)\n",
        "  # print(CSentence2)\n",
        "  accs += [a==b for (a, b) in zip(CSentence1, CSentence2)]\n",
        "  CSentence1 = set(CSentence1)\n",
        "  CSentence2 = set(CSentence2)\n",
        "  correct_preds += len(CSentence1 & CSentence2)\n",
        "  total_preds   += len(CSentence2)\n",
        "  total_correct += len(CSentence1)\n",
        "\n",
        "p   = correct_preds / total_preds if correct_preds > 0 else 0\n",
        "r   = correct_preds / total_correct if correct_preds > 0 else 0\n",
        "f1  = 2 * p * r / (p + r) if correct_preds > 0 else 0\n",
        "acc = np.mean(accs)\n",
        "\n",
        "print(\"accuracy \" + str(100*acc))\n",
        "print(\"p \" + str(p))\n",
        "print(\"r \" + str(r))\n",
        "print(\"f1 \" + str(f1))"
      ],
      "execution_count": null,
      "outputs": [
        {
          "output_type": "stream",
          "text": [
            "accuracy 47.56394640682095\n",
            "p 0.59357780733422\n",
            "r 0.47995083730219695\n",
            "f1 0.5307509344206592\n"
          ],
          "name": "stdout"
        }
      ]
    },
    {
      "cell_type": "code",
      "metadata": {
        "id": "pIUWX_vS-JxY"
      },
      "source": [
        "# For projector tool\n",
        "# accuracy 78.84978540772532\n",
        "# p 0.8311425682507584\n",
        "# r 0.757720079889384\n",
        "# f1 0.792734871011814"
      ],
      "execution_count": null,
      "outputs": []
    }
  ]
}